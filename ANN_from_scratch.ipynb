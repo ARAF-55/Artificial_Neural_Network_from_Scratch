{
 "cells": [
  {
   "cell_type": "code",
   "execution_count": 21,
   "metadata": {},
   "outputs": [],
   "source": [
    "import numpy as np \n",
    "import pandas as pd \n",
    "import matplotlib.pyplot as plt \n",
    "\n",
    "data = pd.read_csv('./train.csv')"
   ]
  },
  {
   "cell_type": "code",
   "execution_count": 22,
   "metadata": {},
   "outputs": [],
   "source": [
    "data = np.array(data)\n",
    "m, n = data.shape\n",
    "\n",
    "np.random.shuffle(data)"
   ]
  },
  {
   "cell_type": "code",
   "execution_count": 23,
   "metadata": {},
   "outputs": [
    {
     "data": {
      "text/plain": [
       "array([[0, 0, 0, ..., 0, 0, 0],\n",
       "       [9, 0, 0, ..., 0, 0, 0],\n",
       "       [2, 0, 0, ..., 0, 0, 0],\n",
       "       ...,\n",
       "       [5, 0, 0, ..., 0, 0, 0],\n",
       "       [0, 0, 0, ..., 0, 0, 0],\n",
       "       [9, 0, 0, ..., 0, 0, 0]])"
      ]
     },
     "execution_count": 23,
     "metadata": {},
     "output_type": "execute_result"
    }
   ],
   "source": [
    "data[:10]"
   ]
  },
  {
   "cell_type": "code",
   "execution_count": 24,
   "metadata": {},
   "outputs": [
    {
     "data": {
      "text/plain": [
       "(784, 41000)"
      ]
     },
     "execution_count": 24,
     "metadata": {},
     "output_type": "execute_result"
    }
   ],
   "source": [
    "data_dev = data[:1000].T\n",
    "Y_dev = data_dev[0]\n",
    "X_dev = data_dev[1:n]\n",
    "X_dev = X_dev / 255\n",
    "\n",
    "data_train = data[1000:m].T\n",
    "Y_train = data_train[0]\n",
    "X_train = data_train[1:n]\n",
    "X_train = X_train / 255\n",
    "\n",
    "feature_num , m_train = X_train.shape\n",
    "\n",
    "feature_num, m_train"
   ]
  },
  {
   "cell_type": "code",
   "execution_count": 25,
   "metadata": {},
   "outputs": [
    {
     "data": {
      "text/plain": [
       "(41000,)"
      ]
     },
     "execution_count": 25,
     "metadata": {},
     "output_type": "execute_result"
    }
   ],
   "source": [
    "Y_train.shape"
   ]
  },
  {
   "cell_type": "code",
   "execution_count": 26,
   "metadata": {},
   "outputs": [],
   "source": [
    "def initialize_parameters():\n",
    "    W1 = np.random.rand(10, 784) - 0.5\n",
    "    b1 = np.random.rand(10, 1) - 0.5\n",
    "    W2 = np.random.rand(10, 10) - 0.5\n",
    "    b2 = np.random.rand(10, 1) - 0.5\n",
    "    \n",
    "    return W1, b1, W2, b2\n",
    "\n",
    "def ReLU(z):\n",
    "    return np.maximum(z, 0)\n",
    "\n",
    "def softmax(z):\n",
    "    A = np.exp(z) / sum(np.exp(z))\n",
    "    return A\n",
    "\n",
    "def forward_propagation(W1, b1, W2, b2, X):\n",
    "    Z1 = W1.dot(X) + b1\n",
    "    A1 = ReLU(Z1)\n",
    "    Z2 = W2.dot(A1) + b2\n",
    "    A2 = softmax(Z2)\n",
    "    \n",
    "    return Z1, A1, Z2, A2\n",
    "\n",
    "def ReLU_deriv(z):\n",
    "    return z > 0\n",
    "\n",
    "def one_hot(Y):\n",
    "    one_hot_Y = np.zeros((Y.size, Y.max() + 1))\n",
    "    one_hot_Y[np.arange(Y.size), Y] = 1\n",
    "    one_hot_Y = one_hot_Y.T\n",
    "    \n",
    "    return one_hot_Y\n",
    "\n",
    "def backward_prop(Z1, A1, Z2, A2, W1, W2, X, Y):\n",
    "    one_hot_Y = one_hot(Y)\n",
    "    dZ2 = A2 - one_hot_Y\n",
    "    dW2 = 1 / m * dZ2.dot(A1.T)\n",
    "    db2 = 1 / m * np.sum(dZ2)\n",
    "    dZ1 = W2.T.dot(dZ2) * ReLU_deriv(Z1)\n",
    "    dW1 = 1 / m * dZ1.dot(X.T)\n",
    "    db1 = 1 / m * np.sum(dZ1)\n",
    "    return dW1, db1, dW2, db2\n",
    "\n",
    "def parameters_update(W1, b1, W2, b2, dW1, db1, dW2, db2, alpha):\n",
    "    W1 = W1 - alpha * dW1\n",
    "    b1 = b1 - alpha * db1    \n",
    "    W2 = W2 - alpha * dW2  \n",
    "    b2 = b2 - alpha * db2    \n",
    "    \n",
    "    return W1, b1, W2, b2\n",
    "    "
   ]
  },
  {
   "cell_type": "code",
   "execution_count": 27,
   "metadata": {},
   "outputs": [],
   "source": [
    "def get_predictions(A2):\n",
    "    return np.argmax(A2, 0)\n",
    "\n",
    "def get_accuracy(predictions, Y):\n",
    "    print(predictions, Y)\n",
    "    return (np.sum(predictions == Y) / Y.size)*100\n",
    "\n",
    "def gradient_descent(X, Y, alpha, iterations):\n",
    "    W1, b1, W2, b2 = initialize_parameters()\n",
    "    for i in range(iterations):\n",
    "        Z1, A1, Z2, A2 = forward_propagation(W1, b1, W2, b2, X)\n",
    "        dW1, db1, dW2, db2 = backward_prop(Z1, A1, Z2, A2, W1, W2, X, Y)\n",
    "        W1, b1, W2, b2 = parameters_update(W1, b1, W2, b2, dW1, db1, dW2, db2, alpha)\n",
    "        if i % 10 == 0:\n",
    "            print(\"Iteration: \", i)\n",
    "            predictions = get_predictions(A2)\n",
    "            accuracy = get_accuracy(predictions, Y)\n",
    "            print(f\"{accuracy:.1f}%\")\n",
    "    return W1, b1, W2, b2"
   ]
  },
  {
   "cell_type": "code",
   "execution_count": 28,
   "metadata": {},
   "outputs": [
    {
     "name": "stdout",
     "output_type": "stream",
     "text": [
      "Iteration:  0\n",
      "[9 9 8 ... 0 0 9] [4 1 7 ... 5 3 1]\n",
      "15.8%\n",
      "Iteration:  10\n",
      "[9 9 8 ... 0 3 9] [4 1 7 ... 5 3 1]\n",
      "24.8%\n",
      "Iteration:  20\n",
      "[9 9 8 ... 8 3 1] [4 1 7 ... 5 3 1]\n",
      "33.4%\n",
      "Iteration:  30\n",
      "[9 9 5 ... 8 3 1] [4 1 7 ... 5 3 1]\n",
      "39.7%\n",
      "Iteration:  40\n",
      "[7 9 9 ... 5 3 1] [4 1 7 ... 5 3 1]\n",
      "46.0%\n",
      "Iteration:  50\n",
      "[7 9 9 ... 5 3 1] [4 1 7 ... 5 3 1]\n",
      "50.9%\n",
      "Iteration:  60\n",
      "[7 9 9 ... 5 3 1] [4 1 7 ... 5 3 1]\n",
      "55.1%\n",
      "Iteration:  70\n",
      "[7 4 9 ... 5 3 1] [4 1 7 ... 5 3 1]\n",
      "59.0%\n",
      "Iteration:  80\n",
      "[9 4 9 ... 5 3 1] [4 1 7 ... 5 3 1]\n",
      "62.6%\n",
      "Iteration:  90\n",
      "[9 4 9 ... 5 3 1] [4 1 7 ... 5 3 1]\n",
      "65.3%\n",
      "Iteration:  100\n",
      "[9 4 7 ... 5 3 1] [4 1 7 ... 5 3 1]\n",
      "67.5%\n",
      "Iteration:  110\n",
      "[9 4 7 ... 5 3 1] [4 1 7 ... 5 3 1]\n",
      "69.3%\n",
      "Iteration:  120\n",
      "[9 4 7 ... 5 3 1] [4 1 7 ... 5 3 1]\n",
      "70.9%\n",
      "Iteration:  130\n",
      "[9 4 7 ... 5 3 1] [4 1 7 ... 5 3 1]\n",
      "72.2%\n",
      "Iteration:  140\n",
      "[9 4 7 ... 5 3 1] [4 1 7 ... 5 3 1]\n",
      "73.3%\n",
      "Iteration:  150\n",
      "[9 4 7 ... 5 3 1] [4 1 7 ... 5 3 1]\n",
      "74.4%\n",
      "Iteration:  160\n",
      "[9 4 7 ... 5 3 1] [4 1 7 ... 5 3 1]\n",
      "75.2%\n",
      "Iteration:  170\n",
      "[9 4 7 ... 5 3 1] [4 1 7 ... 5 3 1]\n",
      "76.0%\n",
      "Iteration:  180\n",
      "[9 4 7 ... 5 3 1] [4 1 7 ... 5 3 1]\n",
      "76.6%\n",
      "Iteration:  190\n",
      "[9 4 7 ... 5 3 1] [4 1 7 ... 5 3 1]\n",
      "77.2%\n",
      "Iteration:  200\n",
      "[9 4 7 ... 5 3 1] [4 1 7 ... 5 3 1]\n",
      "77.8%\n",
      "Iteration:  210\n",
      "[9 4 7 ... 5 3 1] [4 1 7 ... 5 3 1]\n",
      "78.3%\n",
      "Iteration:  220\n",
      "[9 4 7 ... 5 3 1] [4 1 7 ... 5 3 1]\n",
      "78.7%\n",
      "Iteration:  230\n",
      "[9 4 7 ... 5 3 1] [4 1 7 ... 5 3 1]\n",
      "79.2%\n",
      "Iteration:  240\n",
      "[9 4 7 ... 5 3 1] [4 1 7 ... 5 3 1]\n",
      "79.6%\n",
      "Iteration:  250\n",
      "[9 4 7 ... 5 3 1] [4 1 7 ... 5 3 1]\n",
      "80.0%\n",
      "Iteration:  260\n",
      "[9 4 7 ... 5 3 1] [4 1 7 ... 5 3 1]\n",
      "80.3%\n",
      "Iteration:  270\n",
      "[9 4 7 ... 5 3 1] [4 1 7 ... 5 3 1]\n",
      "80.6%\n",
      "Iteration:  280\n",
      "[9 4 7 ... 5 3 1] [4 1 7 ... 5 3 1]\n",
      "80.9%\n",
      "Iteration:  290\n",
      "[9 4 7 ... 5 3 1] [4 1 7 ... 5 3 1]\n",
      "81.1%\n",
      "Iteration:  300\n",
      "[9 4 7 ... 5 3 1] [4 1 7 ... 5 3 1]\n",
      "81.3%\n",
      "Iteration:  310\n",
      "[9 4 7 ... 5 3 1] [4 1 7 ... 5 3 1]\n",
      "81.7%\n",
      "Iteration:  320\n",
      "[9 4 7 ... 5 3 1] [4 1 7 ... 5 3 1]\n",
      "81.9%\n",
      "Iteration:  330\n",
      "[9 4 7 ... 5 3 1] [4 1 7 ... 5 3 1]\n",
      "82.1%\n",
      "Iteration:  340\n",
      "[9 4 7 ... 5 3 1] [4 1 7 ... 5 3 1]\n",
      "82.3%\n",
      "Iteration:  350\n",
      "[9 4 7 ... 5 3 1] [4 1 7 ... 5 3 1]\n",
      "82.5%\n",
      "Iteration:  360\n",
      "[9 4 7 ... 5 3 1] [4 1 7 ... 5 3 1]\n",
      "82.7%\n",
      "Iteration:  370\n",
      "[9 4 7 ... 5 3 1] [4 1 7 ... 5 3 1]\n",
      "82.9%\n",
      "Iteration:  380\n",
      "[9 4 7 ... 5 3 1] [4 1 7 ... 5 3 1]\n",
      "83.1%\n",
      "Iteration:  390\n",
      "[9 4 7 ... 5 3 1] [4 1 7 ... 5 3 1]\n",
      "83.3%\n",
      "Iteration:  400\n",
      "[9 4 7 ... 5 3 1] [4 1 7 ... 5 3 1]\n",
      "83.4%\n",
      "Iteration:  410\n",
      "[9 4 7 ... 5 3 1] [4 1 7 ... 5 3 1]\n",
      "83.6%\n",
      "Iteration:  420\n",
      "[9 4 7 ... 5 3 1] [4 1 7 ... 5 3 1]\n",
      "83.7%\n",
      "Iteration:  430\n",
      "[9 4 7 ... 5 3 1] [4 1 7 ... 5 3 1]\n",
      "83.9%\n",
      "Iteration:  440\n",
      "[9 4 7 ... 5 3 1] [4 1 7 ... 5 3 1]\n",
      "84.0%\n",
      "Iteration:  450\n",
      "[9 4 7 ... 5 3 1] [4 1 7 ... 5 3 1]\n",
      "84.1%\n",
      "Iteration:  460\n",
      "[9 4 7 ... 5 3 1] [4 1 7 ... 5 3 1]\n",
      "84.3%\n",
      "Iteration:  470\n",
      "[9 4 7 ... 5 3 1] [4 1 7 ... 5 3 1]\n",
      "84.5%\n",
      "Iteration:  480\n",
      "[9 4 7 ... 5 3 1] [4 1 7 ... 5 3 1]\n",
      "84.6%\n",
      "Iteration:  490\n",
      "[9 4 7 ... 5 3 1] [4 1 7 ... 5 3 1]\n",
      "84.7%\n"
     ]
    }
   ],
   "source": [
    "W1, b1, W2, b2 = gradient_descent(X_train, Y_train, 0.10, 500)"
   ]
  },
  {
   "cell_type": "code",
   "execution_count": 29,
   "metadata": {},
   "outputs": [],
   "source": [
    "def make_predictions(X, W1, b1, W2, b2):\n",
    "    _, _, _, A2 = forward_propagation(W1, b1, W2, b2, X)\n",
    "    predictions = get_predictions(A2)\n",
    "    return predictions\n",
    "\n",
    "def test_prediction(index, W1, b1, W2, b2):\n",
    "    current_image = X_train[:, index, None]\n",
    "    prediction = make_predictions(X_train[:, index, None], W1, b1, W2, b2)\n",
    "    label = Y_train[index]\n",
    "    print(\"Prediction: \", prediction)\n",
    "    print(\"Label: \", label)\n",
    "    \n",
    "    current_image = current_image.reshape((28, 28)) * 255\n",
    "    plt.gray()\n",
    "    plt.imshow(current_image, interpolation='nearest')\n",
    "    plt.show()"
   ]
  },
  {
   "cell_type": "code",
   "execution_count": 31,
   "metadata": {},
   "outputs": [
    {
     "name": "stdout",
     "output_type": "stream",
     "text": [
      "Prediction:  [6]\n",
      "Label:  6\n"
     ]
    },
    {
     "data": {
      "image/png": "[encoded data removed]",
      "text/plain": [
       "<Figure size 640x480 with 1 Axes>"
      ]
     },
     "metadata": {},
     "output_type": "display_data"
    },
    {
     "name": "stdout",
     "output_type": "stream",
     "text": [
      "Prediction:  [4]\n",
      "Label:  4\n"
     ]
    },
    {
     "data": {
      "image/png": "[encoded data removed]",
      "text/plain": [
       "<Figure size 640x480 with 1 Axes>"
      ]
     },
     "metadata": {},
     "output_type": "display_data"
    },
    {
     "name": "stdout",
     "output_type": "stream",
     "text": [
      "Prediction:  [1]\n",
      "Label:  1\n"
     ]
    },
    {
     "data": {
      "image/png": "[encoded data removed]",
      "text/plain": [
       "<Figure size 640x480 with 1 Axes>"
      ]
     },
     "metadata": {},
     "output_type": "display_data"
    },
    {
     "name": "stdout",
     "output_type": "stream",
     "text": [
      "Prediction:  [4]\n",
      "Label:  4\n"
     ]
    },
    {
     "data": {
      "image/png": "[encoded data removed]",
      "text/plain": [
       "<Figure size 640x480 with 1 Axes>"
      ]
     },
     "metadata": {},
     "output_type": "display_data"
    }
   ],
   "source": [
    "test_prediction(10, W1, b1, W2, b2)\n",
    "test_prediction(12, W1, b1, W2, b2)\n",
    "test_prediction(23, W1, b1, W2, b2)\n",
    "test_prediction(34, W1, b1, W2, b2)"
   ]
  },
  {
   "cell_type": "code",
   "execution_count": null,
   "metadata": {},
   "outputs": [],
   "source": []
  }
 ],
 "metadata": {
  "kernelspec": {
   "display_name": "Python 3",
   "language": "python",
   "name": "python3"
  },
  "language_info": {
   "codemirror_mode": {
    "name": "ipython",
    "version": 3
   },
   "file_extension": ".py",
   "mimetype": "text/x-python",
   "name": "python",
   "nbconvert_exporter": "python",
   "pygments_lexer": "ipython3",
   "version": "3.11.1"
  }
 },
 "nbformat": 4,
 "nbformat_minor": 2
}
